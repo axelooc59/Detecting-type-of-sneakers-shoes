{
 "cells": [
  {
   "cell_type": "markdown",
   "metadata": {},
   "source": [
    "Function to sort picture in correspondant type folder"
   ]
  },
  {
   "cell_type": "code",
   "execution_count": null,
   "metadata": {},
   "outputs": [],
   "source": [
    "def getPathFolder(title):\n",
    "    title=title.replace(\"-\",\" \")\n",
    "    keywords={\"j1_low\":[\"jordan\",\"1\",\"low\"],\n",
    "    \"j1_mid\":[\"jordan\",\"1\",\"mid\"],\n",
    "    \"j1_high\":[\"jordan\",\"1\",\"high\"],\n",
    "    \"dunk_high\":[\"dunk\",\"high\"],\n",
    "    \"dunk_low\":[\"dunk\",\"low\"],\n",
    "    \"j3\":[\"jordan\",\"3\"],\n",
    "    \"j4\":[\"jordan\",\"4\"],\n",
    "    }\n",
    "    negative_keywords=[\"gs\",\"td\",\"ps\"] # we dont' want this shoe size\n",
    "\n",
    "    for name,list in keywords.items():\n",
    "        if(all(m in title.lower() for m in list) and all(e not in title.lower() for e in negative_keywords)):\n",
    "                return str(name)"
   ]
  },
  {
   "cell_type": "markdown",
   "metadata": {},
   "source": [
    "## Javascript to get link directly on the page\n",
    " \t\n",
    "\n",
    "~~~~\n",
    "s=\"\"\n",
    "\n",
    "l=document.getElementsByClassName(\"product-item__image\")  \n",
    "Array.from(l).forEach(element => s=s+element.getAttribute(\"src\")+\"\\n\") \n",
    " \t\n",
    "\n",
    "~~~~\n",
    "*s* will contain all the pictures links.  \n",
    "We copy paste the content of *s* in link.txt \n",
    "  \n",
    "  Then we download all picture and name it with the following python script\n",
    "\n"
   ]
  },
  {
   "cell_type": "code",
   "execution_count": null,
   "metadata": {},
   "outputs": [],
   "source": [
    "import requests as r\n",
    "from tqdm import tqdm\n",
    "from bs4 import BeautifulSoup\n",
    "\n",
    "\n",
    "\n",
    "\n",
    "\n",
    "\n",
    "\n",
    "f1=open(\"link.txt\",\"r\")\n",
    "\n",
    "for count,line in tqdm(enumerate(f1)) :\n",
    "    \n",
    "    print(line)\n",
    "    if(\"https://media.restocks.net/products/\" in line):\n",
    "        \n",
    "        image=r.get(line[:-1],verify=False).content\n",
    "        filename=line.split(\"/\")[-1][:-1]\n",
    "\n",
    "        try:\n",
    "\n",
    "            path=\"data/\"+ getPathFolder(filename)+\"/\" +filename\n",
    "            #print(path)\n",
    "            with open(path,\"wb\") as file:\n",
    "            \n",
    "                file.write(image)\n",
    "        except TypeError:\n",
    "            pass\n",
    "        \n",
    "        \n",
    "        \n",
    "       \n",
    "\n",
    "\n",
    "\n",
    "\n"
   ]
  }
 ],
 "metadata": {
  "kernelspec": {
   "display_name": "Python 3.10.5 64-bit (windows store)",
   "language": "python",
   "name": "python3"
  },
  "language_info": {
   "codemirror_mode": {
    "name": "ipython",
    "version": 3
   },
   "file_extension": ".py",
   "mimetype": "text/x-python",
   "name": "python",
   "nbconvert_exporter": "python",
   "pygments_lexer": "ipython3",
   "version": "3.10.5"
  },
  "orig_nbformat": 4,
  "vscode": {
   "interpreter": {
    "hash": "917bcffd51c55c67f7cf784b92727b2081334ece5d2970cd047f25ec41f54719"
   }
  }
 },
 "nbformat": 4,
 "nbformat_minor": 2
}
